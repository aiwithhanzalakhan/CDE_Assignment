{
 "cells": [
  {
   "cell_type": "markdown",
   "metadata": {},
   "source": [
    "# Part -1 Python Basics (Variables)"
   ]
  },
  {
   "cell_type": "markdown",
   "metadata": {},
   "source": [
    "1. Print Your Name with your Father name and Date of birth using suitable escape sequence charactor"
   ]
  },
  {
   "cell_type": "code",
   "execution_count": null,
   "metadata": {},
   "outputs": [],
   "source": [
    "print('Name: \\t\\t Hanzala Khan\\nFather Name:\\t Mustaqeem Khan\\nDate of Birth:\\t 14-jan-2006')"
   ]
  },
  {
   "cell_type": "markdown",
   "metadata": {},
   "source": [
    "2. Write your small bio using variables and print it using print function"
   ]
  },
  {
   "cell_type": "code",
   "execution_count": null,
   "metadata": {},
   "outputs": [],
   "source": [
    "name = \"Hanzala Khan\"\n",
    "fatherName = \"Mustaqeem Khan\"\n",
    "dateOfBirth = \"14-01-2006\"\n",
    "profession = \"Frontend Developer\"\n",
    "hobby = \"Coding and Gaming\"\n",
    "\n",
    "# Printing the bio\n",
    "print(\"----- My Bio -----\")\n",
    "print(f\"Name:\\t\\t{name}\")\n",
    "print(f\"Father's Name:\\t{fatherName}\")\n",
    "print(f\"Date of Birth:\\t{dateOfBirth}\")\n",
    "print(f\"Profession:\\t{profession}\")\n",
    "print(f\"Hobby:\\t\\t{hobby}\")\n"
   ]
  },
  {
   "cell_type": "markdown",
   "metadata": {},
   "source": [
    "3. Write a program in which use all the operators we can use in Python"
   ]
  },
  {
   "cell_type": "code",
   "execution_count": null,
   "metadata": {},
   "outputs": [],
   "source": [
    "#Arithmetic Operators\n",
    "\n",
    "x = 10\n",
    "y = 3\n",
    "print(\"Arithmetic Operators:\")\n",
    "print(f\"x + y = {x + y}\")  # Addition\n",
    "print(f\"x - y = {x - y}\")  # Subtraction\n",
    "print(f\"x * y = {x * y}\")  # Multiplication\n",
    "print(f\"x / y = {x / y}\")  # Division\n",
    "print(f\"x % y = {x % y}\")  # Modulus (Remainder)\n",
    "print(f\"x ** y = {x ** y}\")  # Exponentiation (Power)\n",
    "print(f\"x // y = {x // y}\")  # Floor Division\n",
    "\n",
    "\n",
    "# Assignment Operators\n",
    "x = 5\n",
    "print(\"\\nAssignment Operators:\")\n",
    "x += 2\n",
    "print(x)\n",
    "x -= 1 \n",
    "print(x)\n",
    "x *= 3 \n",
    "print(x)\n",
    "x /= 2 \n",
    "print(x)\n",
    "x %= 3 \n",
    "print(x)\n",
    "\n",
    "# Comparison Operators\n",
    "print(\"\\nComparison Operators:\")\n",
    "print(f\"x == y => {x == y}\")  # Equal\n",
    "print(f\"x != y => {x != y}\")  # Not equal\n",
    "print(f\"x > y  => {x > y}\")  # Greater than\n",
    "print(f\"x < y => {x < y}\")  # Less than\n",
    "print(f\"x >= y => {x >= y}\")  # Greater than or equal\n",
    "print(f\"x <= y => {x <= y}\")  # Less than or equal\n",
    "\n",
    "# Logical Operators\n",
    "p = True\n",
    "q = False\n",
    "\n",
    "print(\"\\nLogical Operators:\")\n",
    "print(f\"p and q => {p and q}\")  # AND\n",
    "print(f\"p or q => {p or q}\")  # OR \n",
    "print(f\"not p => {not p}\")  # NOT\n"
   ]
  },
  {
   "cell_type": "markdown",
   "metadata": {},
   "source": [
    "4. Completes the following steps of small task:\n",
    "    - Mention Marks of English , Islamiat and Maths out of 100 in 3 different variables\n",
    "    - Mention Variable of Total Marks and assign 300 to it\n",
    "    - Calculate Percentage"
   ]
  },
  {
   "cell_type": "code",
   "execution_count": null,
   "metadata": {},
   "outputs": [],
   "source": [
    "# Step 1: Mention Marks of Subjects (Out of 100)\n",
    "english_marks = 85\n",
    "islamiat_marks = 90\n",
    "maths_marks = 95\n",
    "\n",
    "total_marks = 300\n",
    "\n",
    "obtained_marks = english_marks + islamiat_marks + maths_marks\n",
    "\n",
    "percentage = (obtained_marks / total_marks) * 100\n",
    "\n",
    "print(\"----- Student Marks & Percentage -----\")\n",
    "print(f\"English Marks:  {english_marks} / 100\")\n",
    "print(f\"Islamiat Marks: {islamiat_marks} / 100\")\n",
    "print(f\"Maths Marks:    {maths_marks} / 100\")\n",
    "print(f\"Total Marks:    {total_marks}\")\n",
    "print(f\"Obtained Marks: {obtained_marks}\")\n",
    "print(f\"Percentage:     {percentage:.2f}%\")\n"
   ]
  },
  {
   "cell_type": "markdown",
   "metadata": {},
   "source": [
    "# Part -2 Python Basics (Conditional Statements)"
   ]
  },
  {
   "cell_type": "markdown",
   "metadata": {},
   "source": [
    "1) A company decided to give bonus of 5% to employee if his/her year of service is more than 5 years.\n",
    "Ask user for their salary and year of service and print the net bonus amount."
   ]
  },
  {
   "cell_type": "code",
   "execution_count": 3,
   "metadata": {},
   "outputs": [
    {
     "name": "stdout",
     "output_type": "stream",
     "text": [
      "How Service:  7\n",
      "Whats Your salary 70000\n"
     ]
    },
    {
     "name": "stdout",
     "output_type": "stream",
     "text": [
      "Your Net Bonus is: 3500.0\n"
     ]
    }
   ],
   "source": [
    "totalServiceYear = input(\"Total Year Of Service: \")\n",
    "salary = int(input(\"Whats Your salary\"))\n",
    "\n",
    "if totalServiceYear > \"5\":\n",
    "    net_bonus = salary * 5 / 100\n",
    "    print(f\"Your Net Bonus is: {net_bonus}\")"
   ]
  },
  {
   "cell_type": "markdown",
   "metadata": {},
   "source": [
    "\n",
    "2) Write a program to check whether a person is eligible for voting or not. (accept age from user) if age is greater than 17 eligible otherwise not eligible"
   ]
  },
  {
   "cell_type": "code",
   "execution_count": 7,
   "metadata": {},
   "outputs": [
    {
     "name": "stdout",
     "output_type": "stream",
     "text": [
      "Enter Your Age:  16\n"
     ]
    },
    {
     "name": "stdout",
     "output_type": "stream",
     "text": [
      "You Are Not Eligible\n"
     ]
    }
   ],
   "source": [
    "ageForVoting = int(input(\"Enter Your Age: \"))\n",
    "\n",
    "if ageForVoting > 17:\n",
    "    print('You Are Eligible')\n",
    "else:\n",
    "    print(\"You Are Not Eligible\")"
   ]
  },
  {
   "cell_type": "markdown",
   "metadata": {},
   "source": [
    "\n",
    "3) Write a program to check whether a number entered by user is even or odd."
   ]
  },
  {
   "cell_type": "code",
   "execution_count": 19,
   "metadata": {},
   "outputs": [
    {
     "name": "stdout",
     "output_type": "stream",
     "text": [
      "Enter a Number:  2\n"
     ]
    },
    {
     "name": "stdout",
     "output_type": "stream",
     "text": [
      "2 is Even Number\n"
     ]
    }
   ],
   "source": [
    "numbers = int(input(\"Enter a Number: \"))\n",
    "\n",
    "if numbers % 2 == 0:\n",
    "    print(f\"{numbers} is Even Number\")\n",
    "else:\n",
    "    print(f\"{numbers} is Odd Number\")"
   ]
  },
  {
   "cell_type": "markdown",
   "metadata": {},
   "source": [
    "4) Write a program to check whether a number is divisible by 7 or not.\n",
    "Show Answer"
   ]
  },
  {
   "cell_type": "code",
   "execution_count": null,
   "metadata": {},
   "outputs": [],
   "source": [
    "numbers = int(input(\"Enter a Number: \"))\n",
    "\n",
    "if numbers % 7 == 0:\n",
    "    print(f\"This Number: {numbers} is Divisible By 7\")\n",
    "else:\n",
    "    print(f\"This Number: {numbers} is Not Divisible By 7\")"
   ]
  },
  {
   "cell_type": "markdown",
   "metadata": {},
   "source": [
    "5) Write a program to display \n",
    "\"Hello\" if a number entered by user is a multiple of five , otherwise print \"Bye\"."
   ]
  },
  {
   "cell_type": "code",
   "execution_count": 10,
   "metadata": {},
   "outputs": [
    {
     "name": "stdout",
     "output_type": "stream",
     "text": [
      "Enter a Number:  10\n"
     ]
    },
    {
     "name": "stdout",
     "output_type": "stream",
     "text": [
      "Hello\n"
     ]
    }
   ],
   "source": [
    "numbers = int(input(\"Enter a Number: \"))\n",
    "\n",
    "if numbers % 5 == 0:\n",
    "    print(\"Hello\")\n",
    "else:\n",
    "    print(\"Bye\")\n"
   ]
  },
  {
   "cell_type": "markdown",
   "metadata": {},
   "source": [
    "7) Write a program to display the last digit of a number.\n"
   ]
  },
  {
   "cell_type": "code",
   "execution_count": 20,
   "metadata": {
    "scrolled": true
   },
   "outputs": [
    {
     "name": "stdout",
     "output_type": "stream",
     "text": [
      "Enter a Number:  3182739100\n"
     ]
    },
    {
     "name": "stdout",
     "output_type": "stream",
     "text": [
      "0\n"
     ]
    }
   ],
   "source": [
    "numbers = int(input(\"Enter a Number: \"))\n",
    "getLastDigit = numbers % 10\n",
    "print(getLastDigit)"
   ]
  },
  {
   "cell_type": "markdown",
   "metadata": {},
   "source": [
    "9) Take values of length and breadth of a rectangle from user and print if it is square or rectangle."
   ]
  },
  {
   "cell_type": "code",
   "execution_count": 24,
   "metadata": {},
   "outputs": [
    {
     "name": "stdout",
     "output_type": "stream",
     "text": [
      "Enter a Lenght Value:  4\n",
      "Enter a Breadth Value:  5\n"
     ]
    },
    {
     "name": "stdout",
     "output_type": "stream",
     "text": [
      "It is rectangle\n"
     ]
    }
   ],
   "source": [
    "lenghtValue = int(input(\"Enter a Lenght Value: \"))\n",
    "breadthValue = int(input(\"Enter a Breadth Value: \"))\n",
    "\n",
    "if lenghtValue == breadthValue:\n",
    "    print('It is a square')\n",
    "else:\n",
    "    print('It is a rectangle')"
   ]
  },
  {
   "cell_type": "markdown",
   "metadata": {},
   "source": [
    "10) Take two int values from user and print greatest among them."
   ]
  },
  {
   "cell_type": "code",
   "execution_count": 32,
   "metadata": {},
   "outputs": [
    {
     "name": "stdout",
     "output_type": "stream",
     "text": [
      "Enter a First Number:  0\n",
      "Enter a Second Number:  0\n"
     ]
    },
    {
     "name": "stdout",
     "output_type": "stream",
     "text": [
      "Both Are Greatest Among\n"
     ]
    }
   ],
   "source": [
    "numbers = int(input(\"Enter a First Number: \"))\n",
    "secNumber = int(input(\"Enter a Second Number: \"))\n",
    "\n",
    "if numbers > secNumber:\n",
    "    print(numbers)\n",
    "elif secNumber > numbers:\n",
    "    print(secNumber)\n",
    "elif number == secNumber:\n",
    "    print('Both Are Greatest Among')"
   ]
  },
  {
   "cell_type": "markdown",
   "metadata": {},
   "source": [
    "11) A shop will give discount of 10% if the cost of purchased quantity is more than 1000.\n",
    "Ask user for quantity\n",
    "Suppose, one unit will cost 100.\n",
    "Judge and print total cost for user."
   ]
  },
  {
   "cell_type": "code",
   "execution_count": 82,
   "metadata": {},
   "outputs": [
    {
     "name": "stdout",
     "output_type": "stream",
     "text": [
      "Enter a Quantity:  15\n"
     ]
    },
    {
     "name": "stdout",
     "output_type": "stream",
     "text": [
      "Your Total Cost is: 1350\n"
     ]
    }
   ],
   "source": [
    "inputQuantity = int(input('Enter a Quantity: '))\n",
    "perUnitCost = 100\n",
    "costOfPurchased = inputQuantity * perUnitCost\n",
    "\n",
    "if costOfPurchased > 1000:\n",
    "    discountValue = costOfPurchased * 10 / 100\n",
    "    print(f'Your Total Cost is: {int(costOfPurchased - discountValue)}')\n",
    "else:\n",
    "    print(f'Your Total Cost is: {costOfPurchased}')\n"
   ]
  },
  {
   "cell_type": "markdown",
   "metadata": {},
   "source": [
    "12) A school has following rules for grading system:\n",
    "\n",
    "a. Below 25 - F\n",
    "\n",
    "b. 25 to 45 - E\n",
    "\n",
    "c. 45 to 50 - D\n",
    "\n",
    "d. 50 to 60 - C\n",
    "\n",
    "e. 60 to 80 - B\n",
    "\n",
    "f. Above 80 - A\n",
    "\n",
    "Ask user to enter marks and print the corresponding grade."
   ]
  },
  {
   "cell_type": "code",
   "execution_count": 3,
   "metadata": {},
   "outputs": [
    {
     "name": "stdout",
     "output_type": "stream",
     "text": [
      "Enter your Marks:  9\n"
     ]
    },
    {
     "name": "stdout",
     "output_type": "stream",
     "text": [
      "Grade F\n"
     ]
    }
   ],
   "source": [
    "marksOfStudent = int(input(\"Enter your Marks: \"))\n",
    "\n",
    "if marksOfStudent > 80 and marksOfStudent <= 100:\n",
    "    print(\"Grade A\")\n",
    "elif marksOfStudent >= 60 and marksOfStudent <= 80:\n",
    "    print(\"Grade B\")\n",
    "elif marksOfStudent >= 50 and marksOfStudent < 60:\n",
    "    print(\"Grade C\")\n",
    "elif marksOfStudent >= 45 and marksOfStudent < 50:\n",
    "    print(\"Grade D\")\n",
    "elif marksOfStudent >= 25 and marksOfStudent < 45:\n",
    "    print(\"Grade E\")\n",
    "elif marksOfStudent >= 0 and marksOfStudent < 25:\n",
    "    print('Grade F')\n",
    "else: \n",
    "    print('Invalid Input')\n"
   ]
  },
  {
   "cell_type": "markdown",
   "metadata": {},
   "source": [
    "14)A student will not be allowed to sit in exam if his/her attendence is less than 75%.\n",
    "\n",
    "Take following input from user\n",
    "\n",
    "- Number of classes held\n",
    "\n",
    "- Number of classes attended.\n",
    "\n",
    "And print\n",
    "\n",
    "- percentage of class attended\n",
    "\n",
    "- Is student is allowed to sit in exam or not.\n"
   ]
  },
  {
   "cell_type": "code",
   "execution_count": 63,
   "metadata": {},
   "outputs": [
    {
     "name": "stdout",
     "output_type": "stream",
     "text": [
      "Number of Classes Held:  50\n",
      "Number Of Classess Attended:  25\n"
     ]
    },
    {
     "name": "stdout",
     "output_type": "stream",
     "text": [
      "Percentage Of Class Attended is:50%\n",
      "You Are Not Sit in Exam\n"
     ]
    }
   ],
   "source": [
    "totalClassesHeld = int(input(\"Number of Classes Held: \"))\n",
    "totalClassAttended = int(input(\"Number Of Classess Attended: \"))\n",
    "\n",
    "checkAttendencePercentage = int(totalClassAttended * 100 / totalClassesHeld)\n",
    "if checkAttendencePercentage < 75:\n",
    "    print(f\"Percentage Of Class Attended is:{checkAttendencePercentage}%\\nYou Are Not Sit in Exam\")\n",
    "else:\n",
    "    print(f\"Percentage Of Class Attended is:{checkAttendencePercentage}%\\nIs Student is allowed to sit in exams\")"
   ]
  },
  {
   "cell_type": "markdown",
   "metadata": {},
   "source": [
    "15) Modify the above question to allow student to sit if he/she has medical cause. Ask user if he/she has medical cause or not ( 'Y' or 'N' ) and print accordingly."
   ]
  },
  {
   "cell_type": "code",
   "execution_count": 14,
   "metadata": {},
   "outputs": [
    {
     "name": "stdout",
     "output_type": "stream",
     "text": [
      "Does the student have a medical cause to sit? (Y/N):  n\n"
     ]
    },
    {
     "name": "stdout",
     "output_type": "stream",
     "text": [
      "The student is not allowed to sit.\n"
     ]
    }
   ],
   "source": [
    "medicalCause = input(\"Does the student have a medical cause to sit? (Y/N): \").strip().upper()\n",
    "\n",
    "if medicalCause == 'Y':\n",
    "    print(\"The student is allowed to sit due to medical cause.\")\n",
    "else:\n",
    "    print(\"The student is not allowed to sit.\")\n"
   ]
  },
  {
   "cell_type": "markdown",
   "metadata": {},
   "source": [
    "16) Write a program to check if a year is leap year or not.\n",
    "\n",
    "If a year is divisible by 4 then it is leap year but if the year is century year like 2000, 1900, 2100 then it must be divisible by 400."
   ]
  },
  {
   "cell_type": "code",
   "execution_count": 18,
   "metadata": {},
   "outputs": [
    {
     "name": "stdout",
     "output_type": "stream",
     "text": [
      "Enter a year:  2005\n"
     ]
    },
    {
     "name": "stdout",
     "output_type": "stream",
     "text": [
      "2005 is not a leap year.\n"
     ]
    }
   ],
   "source": [
    "year = int(input(\"Enter a year: \"))\n",
    "\n",
    "if year % 4 == 0:\n",
    "    if year % 100 == 0:\n",
    "        if year % 400 == 0:\n",
    "            print(year, \"is a leap year.\")\n",
    "        else:\n",
    "            print(year, \"is not a leap year.\")\n",
    "    else:\n",
    "        print(year, \"is a leap year.\")\n",
    "else:\n",
    "    print(year, \"is not a leap year.\")"
   ]
  },
  {
   "cell_type": "markdown",
   "metadata": {},
   "source": [
    "17) Ask user to enter age, gender ( M or F ), marital status ( Y or N ) and then using following rules print their place of service.\n",
    "\n",
    "if employee is female, then she will work only in urban areas.\n",
    "\n",
    "if employee is a male and age is in between 20 to 40 then he may work in anywhere\n",
    "\n",
    "if employee is male and age is in between 40 t0 60 then he will work in urban areas only.\n",
    "\n",
    "And any other input of age should print \"ERROR\""
   ]
  },
  {
   "cell_type": "code",
   "execution_count": 51,
   "metadata": {},
   "outputs": [
    {
     "name": "stdout",
     "output_type": "stream",
     "text": [
      "Enter Your Age:  12\n",
      "Enter Your Gender M / F:  M\n",
      "Enter Your Marital Status Y/N:  y\n"
     ]
    }
   ],
   "source": [
    "age = int(input(\"Enter Your Age: \"))\n",
    "gender = input(\"Enter Your Gender M / F: \")\n",
    "maritalStatus = input(\"Enter Your Marital Status Y/N: \")\n",
    "\n",
    "if gender == 'F':\n",
    "    print(\"You work Only Urban Areas.\")\n",
    "elif gender == 'M':\n",
    "    if age >= 20 and age <=40:\n",
    "        print(\"He May work in anywhere.\")\n",
    "    elif age > 40 and age <= 60:\n",
    "        print(\"He will Work in urban areas only.\")\n",
    "else:\n",
    "    print(\"ERROR\")"
   ]
  },
  {
   "cell_type": "markdown",
   "metadata": {},
   "source": [
    "6) Write a program to calculate the electricity bill (accept number of unit from user) according to the following criteria :\n",
    "     Unit                                                     Price  \n",
    "uptp 100 units                                             no charge\n",
    "Next 200 units                                              Rs 5 per unit\n",
    "After 200 units                                             Rs 10 per unit\n",
    "(For example if input unit is 350 than total bill amount is Rs.3500\n",
    "(For example if input unit is 97 than total bill amount is Rs.0\n",
    "(For example if input unit is 150 than total bill amount is Rs.750"
   ]
  },
  {
   "cell_type": "code",
   "execution_count": 37,
   "metadata": {},
   "outputs": [
    {
     "name": "stdout",
     "output_type": "stream",
     "text": [
      "Enter Here Total Unit:  350\n"
     ]
    },
    {
     "name": "stdout",
     "output_type": "stream",
     "text": [
      "Your Total Bill Amount is: 3500\n"
     ]
    }
   ],
   "source": [
    "unitOfElectricityBill = int(input(\"Enter Here Total Unit: \"))\n",
    "\n",
    "if unitOfElectricityBill <= 100:\n",
    "    print(\"Your Total Bill Amount is: 0\")\n",
    "elif unitOfElectricityBill <= 200:\n",
    "    print(f\"Your Total Bill Amount is: {unitOfElectricityBill * 5}\")\n",
    "else:\n",
    "    print(f\"Your Total Bill Amount is: {unitOfElectricityBill * 10}\")"
   ]
  },
  {
   "cell_type": "markdown",
   "metadata": {},
   "source": [
    "13) Take input of age of 3 people by user and determine oldest and youngest among them."
   ]
  },
  {
   "cell_type": "code",
   "execution_count": 20,
   "metadata": {},
   "outputs": [
    {
     "name": "stdout",
     "output_type": "stream",
     "text": [
      "Enter the age of the first person:  34\n",
      "Enter the age of the second person:  78\n",
      "Enter the age of the third person:  56\n"
     ]
    },
    {
     "name": "stdout",
     "output_type": "stream",
     "text": [
      "The oldest person is: 78 years old.\n",
      "The youngest person is: 34 years old.\n"
     ]
    }
   ],
   "source": [
    "age1 = int(input(\"Enter the age of the first person: \"))\n",
    "age2 = int(input(\"Enter the age of the second person: \"))\n",
    "age3 = int(input(\"Enter the age of the third person: \"))\n",
    "\n",
    "oldest = max(age1, age2, age3)\n",
    "youngest = min(age1, age2, age3)\n",
    "\n",
    "print(\"The oldest person is:\", oldest, \"years old.\")\n",
    "print(\"The youngest person is:\", youngest, \"years old.\")"
   ]
  }
 ],
 "metadata": {
  "kernelspec": {
   "display_name": "Python 3",
   "language": "python",
   "name": "python3"
  },
  "language_info": {
   "codemirror_mode": {
    "name": "ipython",
    "version": 3
   },
   "file_extension": ".py",
   "mimetype": "text/x-python",
   "name": "python",
   "nbconvert_exporter": "python",
   "pygments_lexer": "ipython3",
   "version": "3.12.7"
  }
 },
 "nbformat": 4,
 "nbformat_minor": 4
}
