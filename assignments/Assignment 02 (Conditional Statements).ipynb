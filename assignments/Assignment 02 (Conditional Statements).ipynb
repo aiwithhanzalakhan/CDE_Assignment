{
 "cells": [
  {
   "cell_type": "markdown",
   "metadata": {},
   "source": [
    "1) A company decided to give bonus of 5% to employee if his/her year of service is more than 5 years.\n",
    "Ask user for their salary and year of service and print the net bonus amount."
   ]
  },
  {
   "cell_type": "code",
   "execution_count": 6,
   "metadata": {},
   "outputs": [],
   "source": [
    "totalServiceYear = input(\"Total Year Of Service: \")\n",
    "salary = int(input(\"Whats Your salary\"))\n",
    "\n",
    "if totalServiceYear > \"5\":\n",
    "    net_bonus = salary * 5 / 100\n",
    "    print(f\"Your Net Bonus is: {net_bonus}\")"
   ]
  },
  {
   "cell_type": "markdown",
   "metadata": {},
   "source": [
    "\n",
    "2) Write a program to check whether a person is eligible for voting or not. (accept age from user) if age is greater than 17 eligible otherwise not eligible"
   ]
  },
  {
   "cell_type": "code",
   "execution_count": 7,
   "metadata": {},
   "outputs": [],
   "source": [
    " ageForVoting = int(input(\"Enter Your Age: \"))\n",
    "\n",
    "if ageForVoting > 17:\n",
    "    print('You Are Eligible')\n",
    "else:\n",
    "    print(\"You Are Not Eligible\")"
   ]
  },
  {
   "cell_type": "markdown",
   "metadata": {},
   "source": [
    "\n",
    "3) Write a program to check whether a number entered by user is even or odd."
   ]
  },
  {
   "cell_type": "code",
   "execution_count": 8,
   "metadata": {},
   "outputs": [],
   "source": [
    "numbers = int(input(\"Enter a Number: \"))\n",
    "\n",
    "if numbers % 2 == 0:\n",
    "    print(f\"{numbers} is Even Number\")\n",
    "else:\n",
    "    print(f\"{numbers} is Odd Number\")"
   ]
  },
  {
   "cell_type": "markdown",
   "metadata": {},
   "source": [
    "4) Write a program to check whether a number is divisible by 7 or not.\n",
    "Show Answer"
   ]
  },
  {
   "cell_type": "code",
   "execution_count": 9,
   "metadata": {},
   "outputs": [],
   "source": [
    "numbers = int(input(\"Enter a Number: \"))\n",
    "\n",
    "if numbers % 7 == 0:\n",
    "    print(f\"This Number: {numbers} is Divisible By 7\")\n",
    "else:\n",
    "    print(f\"This Number: {numbers} is Not Divisible By 7\")"
   ]
  },
  {
   "cell_type": "markdown",
   "metadata": {},
   "source": [
    "5) Write a program to display \n",
    "\"Hello\" if a number entered by user is a multiple of five , otherwise print \"Bye\"."
   ]
  },
  {
   "cell_type": "code",
   "execution_count": 11,
   "metadata": {},
   "outputs": [],
   "source": [
    "numbers = int(input(\"Enter a Number: \"))\n",
    "\n",
    "if numbers % 5 == 0:\n",
    "    print(\"Hello\")\n",
    "else:\n",
    "    print(\"Bye\")\n"
   ]
  },
  {
   "cell_type": "markdown",
   "metadata": {},
   "source": [
    "7) Write a program to display the last digit of a number.\n"
   ]
  },
  {
   "cell_type": "code",
   "execution_count": 12,
   "metadata": {},
   "outputs": [],
   "source": [
    "numbers = int(input(\"Enter a Number: \"))\n",
    "getLastDigit = numbers % 10\n",
    "print(getLastDigit)"
   ]
  },
  {
   "cell_type": "markdown",
   "metadata": {},
   "source": [
    "9) Take values of length and breadth of a rectangle from user and print if it is square or rectangle."
   ]
  },
  {
   "cell_type": "code",
   "execution_count": 14,
   "metadata": {},
   "outputs": [],
   "source": [
    "lenghtValue = int(input(\"Enter a Lenght Value: \"))\n",
    "breadthValue = int(input(\"Enter a Breadth Value: \"))\n",
    "\n",
    "if lenghtValue == breadthValue:\n",
    "    print('It is a square')\n",
    "else:\n",
    "    print('It is a rectangle')"
   ]
  },
  {
   "cell_type": "markdown",
   "metadata": {},
   "source": [
    "10) Take two int values from user and print greatest among them."
   ]
  },
  {
   "cell_type": "code",
   "execution_count": 15,
   "metadata": {},
   "outputs": [],
   "source": [
    "numbers = int(input(\"Enter a First Number: \"))\n",
    "secNumber = int(input(\"Enter a Second Number: \"))\n",
    "\n",
    "if numbers > secNumber:\n",
    "    print(numbers)\n",
    "elif secNumber > numbers:\n",
    "    print(secNumber)\n",
    "elif number == secNumber:\n",
    "    print('Both Are Greatest Among')"
   ]
  },
  {
   "cell_type": "markdown",
   "metadata": {},
   "source": [
    "11) A shop will give discount of 10% if the cost of purchased quantity is more than 1000.\n",
    "Ask user for quantity\n",
    "Suppose, one unit will cost 100.\n",
    "Judge and print total cost for user."
   ]
  },
  {
   "cell_type": "code",
   "execution_count": 16,
   "metadata": {},
   "outputs": [],
   "source": [
    "inputQuantity = int(input('Enter a Quantity: '))\n",
    "perUnitCost = 100\n",
    "costOfPurchased = inputQuantity * perUnitCost\n",
    "\n",
    "if costOfPurchased > 1000:\n",
    "    discountValue = costOfPurchased * 10 / 100\n",
    "    print(f'Your Total Cost is: {int(costOfPurchased - discountValue)}')\n",
    "else:\n",
    "    print(f'Your Total Cost is: {costOfPurchased}')"
   ]
  },
  {
   "cell_type": "markdown",
   "metadata": {},
   "source": [
    "12) A school has following rules for grading system:\n",
    "\n",
    "a. Below 25 - F\n",
    "\n",
    "b. 25 to 45 - E\n",
    "\n",
    "c. 45 to 50 - D\n",
    "\n",
    "d. 50 to 60 - C\n",
    "\n",
    "e. 60 to 80 - B\n",
    "\n",
    "f. Above 80 - A\n",
    "\n",
    "Ask user to enter marks and print the corresponding grade."
   ]
  },
  {
   "cell_type": "code",
   "execution_count": 2,
   "metadata": {},
   "outputs": [],
   "source": [
    "marksOfStudent = int(input(\"Enter your Marks: \"))\n",
    "\n",
    "if marks > 80 and marks <= 100:\n",
    "    print(\"Grade A\")\n",
    "elif marks >= 60 and marks <= 80:\n",
    "    print(\"Grade B\")\n",
    "elif marks >= 50 and marks < 60:\n",
    "    print(\"Grade C\")\n",
    "elif marks >= 45 and marks < 50:\n",
    "    print(\"Grade D\")\n",
    "elif marks >= 25 and marks < 45:\n",
    "    print(\"Grade E\")\n",
    "elif marks >= 0 and marks < 25:\n",
    "    print('Grade F')\n",
    "else: \n",
    "    print('Invalid Input')"
   ]
  },
  {
   "cell_type": "markdown",
   "metadata": {},
   "source": [
    "14)A student will not be allowed to sit in exam if his/her attendence is less than 75%.\n",
    "\n",
    "Take following input from user\n",
    "\n",
    "Number of classes held\n",
    "\n",
    "Number of classes attended.\n",
    "\n",
    "And print\n",
    "\n",
    "percentage of class attended\n",
    "\n",
    "Is student is allowed to sit in exam or not.\n"
   ]
  },
  {
   "cell_type": "code",
   "execution_count": 19,
   "metadata": {},
   "outputs": [],
   "source": [
    "totalClassesHeld = int(input(\"Number of Classes Held: \"))\n",
    "totalClassAttended = int(input(\"Number Of Classess Attended: \"))\n",
    "\n",
    "checkAttendencePercentage = int(totalClassAttended * 100 / totalClassesHeld)\n",
    "if checkAttendencePercentage < 75:\n",
    "    print(f\"Percentage Of Class Attended is:{checkAttendencePercentage}%\\nYou Are Not Sit in Exam\")\n",
    "else:\n",
    "    print(f\"Percentage Of Class Attended is:{checkAttendencePercentage}%\\nIs Student is allowed to sit in exams\")"
   ]
  },
  {
   "cell_type": "markdown",
   "metadata": {},
   "source": [
    "15) Modify the above question to allow student to sit if he/she has medical cause. Ask user if he/she has medical cause or not ( 'Y' or 'N' ) and print accordingly."
   ]
  },
  {
   "cell_type": "code",
   "execution_count": 20,
   "metadata": {},
   "outputs": [],
   "source": [
    "medicalCause = input(\"Does the student have a medical cause to sit? (Y/N): \").strip().upper()\n",
    "\n",
    "if medicalCause == 'Y':\n",
    "    print(\"The student is allowed to sit due to medical cause.\")\n",
    "else:\n",
    "    print(\"The student is not allowed to sit.\")\n"
   ]
  },
  {
   "cell_type": "markdown",
   "metadata": {},
   "source": [
    "16) Write a program to check if a year is leap year or not.\n",
    "\n",
    "If a year is divisible by 4 then it is leap year but if the year is century year like 2000, 1900, 2100 then it must be divisible by 400."
   ]
  },
  {
   "cell_type": "code",
   "execution_count": 21,
   "metadata": {},
   "outputs": [],
   "source": [
    "year = int(input(\"Enter a year: \"))\n",
    "\n",
    "if year % 4 == 0:\n",
    "    if year % 100 == 0:\n",
    "        if year % 400 == 0:\n",
    "            print(year, \"is a leap year.\")\n",
    "        else:\n",
    "            print(year, \"is not a leap year.\")\n",
    "    else:\n",
    "        print(year, \"is a leap year.\")\n",
    "else:\n",
    "    print(year, \"is not a leap year.\")"
   ]
  },
  {
   "cell_type": "markdown",
   "metadata": {},
   "source": [
    "17) Ask user to enter age, gender ( M or F ), marital status ( Y or N ) and then using following rules print their place of service.\n",
    "\n",
    "if employee is female, then she will work only in urban areas.\n",
    "\n",
    "if employee is a male and age is in between 20 to 40 then he may work in anywhere\n",
    "\n",
    "if employee is male and age is in between 40 t0 60 then he will work in urban areas only.\n",
    "\n",
    "And any other input of age should print \"ERROR\""
   ]
  },
  {
   "cell_type": "code",
   "execution_count": 22,
   "metadata": {},
   "outputs": [],
   "source": [
    "age = int(input(\"Enter Your Age: \"))\n",
    "gender = input(\"Enter Your Gender M / F: \")\n",
    "maritalStatus = input(\"Enter Your Marital Status Y/N: \")\n",
    "\n",
    "if gender == 'F':\n",
    "    print(\"You work Only Urban Areas.\")\n",
    "elif gender == 'M':\n",
    "    if age >= 20 and age <=40:\n",
    "        print(\"He May work in anywhere.\")\n",
    "    elif age > 40 and age <= 60:\n",
    "        print(\"He will Work in urban areas only.\")\n",
    "else:\n",
    "    print(\"ERROR\")"
   ]
  },
  {
   "cell_type": "markdown",
   "metadata": {},
   "source": [
    "6) Write a program to calculate the electricity bill (accept number of unit from user) according to the following criteria :\n",
    "     Unit                                                     Price  \n",
    "uptp 100 units                                             no charge\n",
    "Next 200 units                                              Rs 5 per unit\n",
    "After 200 units                                             Rs 10 per unit\n",
    "(For example if input unit is 350 than total bill amount is Rs.3500\n",
    "(For example if input unit is 97 than total bill amount is Rs.0\n",
    "(For example if input unit is 150 than total bill amount is Rs.750"
   ]
  },
  {
   "cell_type": "code",
   "execution_count": null,
   "metadata": {},
   "outputs": [],
   "source": [
    "unitOfElectricityBill = int(input(\"Enter Here Total Unit: \"))\n",
    "\n",
    "if unitOfElectricityBill <= 100:\n",
    "    print(\"Your Total Bill Amount is: 0\")\n",
    "elif unitOfElectricityBill <= 200:\n",
    "    print(f\"Your Total Bill Amount is: {unitOfElectricityBill * 5}\")\n",
    "else:\n",
    "    print(f\"Your Total Bill Amount is: {unitOfElectricityBill * 10}\")"
   ]
  },
  {
   "cell_type": "markdown",
   "metadata": {},
   "source": [
    "13) Take input of age of 3 people by user and determine oldest and youngest among them."
   ]
  },
  {
   "cell_type": "code",
   "execution_count": 18,
   "metadata": {},
   "outputs": [],
   "source": [
    "age1 = int(input(\"Enter the age of the first person: \"))\n",
    "age2 = int(input(\"Enter the age of the second person: \"))\n",
    "age3 = int(input(\"Enter the age of the third person: \"))\n",
    "\n",
    "oldest = max(age1, age2, age3)\n",
    "youngest = min(age1, age2, age3)\n",
    "\n",
    "print(\"The oldest person is:\", oldest, \"years old.\")\n",
    "print(\"The youngest person is:\", youngest, \"years old.\")"
   ]
  }
 ],
 "metadata": {
  "kernelspec": {
   "display_name": "Python 3 (ipykernel)",
   "language": "python",
   "name": "python3"
  },
  "language_info": {
   "codemirror_mode": {
    "name": "ipython",
    "version": 3
   },
   "file_extension": ".py",
   "mimetype": "text/x-python",
   "name": "python",
   "nbconvert_exporter": "python",
   "pygments_lexer": "ipython3",
   "version": "3.11.5"
  }
 },
 "nbformat": 4,
 "nbformat_minor": 2
}
